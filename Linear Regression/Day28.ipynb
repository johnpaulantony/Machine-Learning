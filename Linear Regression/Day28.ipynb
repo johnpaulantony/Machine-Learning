{
 "cells": [
  {
   "cell_type": "code",
   "execution_count": 1,
   "id": "a46c1208-a510-4462-91d1-9d4e79d40826",
   "metadata": {},
   "outputs": [],
   "source": [
    "# Linear Regression alg\n",
    "import pandas as pd\n",
    "import matplotlib.pyplot as plt\n",
    "from sklearn.linear_model import LinearRegression"
   ]
  },
  {
   "cell_type": "code",
   "execution_count": 2,
   "id": "7a81a7e3-1c4a-458d-b24e-d86e1615d960",
   "metadata": {},
   "outputs": [],
   "source": [
    "# Load dataset from local dir\n",
    "dataset=pd.read_csv('dataset.csv')"
   ]
  },
  {
   "cell_type": "code",
   "execution_count": 4,
   "id": "8a6e7751-27d0-442b-811b-79893871a18d",
   "metadata": {},
   "outputs": [
    {
     "data": {
      "text/html": [
       "<div>\n",
       "<style scoped>\n",
       "    .dataframe tbody tr th:only-of-type {\n",
       "        vertical-align: middle;\n",
       "    }\n",
       "\n",
       "    .dataframe tbody tr th {\n",
       "        vertical-align: top;\n",
       "    }\n",
       "\n",
       "    .dataframe thead th {\n",
       "        text-align: right;\n",
       "    }\n",
       "</style>\n",
       "<table border=\"1\" class=\"dataframe\">\n",
       "  <thead>\n",
       "    <tr style=\"text-align: right;\">\n",
       "      <th></th>\n",
       "      <th>area</th>\n",
       "      <th>price</th>\n",
       "    </tr>\n",
       "  </thead>\n",
       "  <tbody>\n",
       "    <tr>\n",
       "      <th>0</th>\n",
       "      <td>8450</td>\n",
       "      <td>208500</td>\n",
       "    </tr>\n",
       "    <tr>\n",
       "      <th>1</th>\n",
       "      <td>9600</td>\n",
       "      <td>181500</td>\n",
       "    </tr>\n",
       "    <tr>\n",
       "      <th>2</th>\n",
       "      <td>11250</td>\n",
       "      <td>223500</td>\n",
       "    </tr>\n",
       "    <tr>\n",
       "      <th>3</th>\n",
       "      <td>9550</td>\n",
       "      <td>140000</td>\n",
       "    </tr>\n",
       "    <tr>\n",
       "      <th>4</th>\n",
       "      <td>14260</td>\n",
       "      <td>250000</td>\n",
       "    </tr>\n",
       "    <tr>\n",
       "      <th>...</th>\n",
       "      <td>...</td>\n",
       "      <td>...</td>\n",
       "    </tr>\n",
       "    <tr>\n",
       "      <th>1455</th>\n",
       "      <td>7917</td>\n",
       "      <td>175000</td>\n",
       "    </tr>\n",
       "    <tr>\n",
       "      <th>1456</th>\n",
       "      <td>13175</td>\n",
       "      <td>210000</td>\n",
       "    </tr>\n",
       "    <tr>\n",
       "      <th>1457</th>\n",
       "      <td>9042</td>\n",
       "      <td>266500</td>\n",
       "    </tr>\n",
       "    <tr>\n",
       "      <th>1458</th>\n",
       "      <td>9717</td>\n",
       "      <td>142125</td>\n",
       "    </tr>\n",
       "    <tr>\n",
       "      <th>1459</th>\n",
       "      <td>9937</td>\n",
       "      <td>147500</td>\n",
       "    </tr>\n",
       "  </tbody>\n",
       "</table>\n",
       "<p>1460 rows × 2 columns</p>\n",
       "</div>"
      ],
      "text/plain": [
       "       area   price\n",
       "0      8450  208500\n",
       "1      9600  181500\n",
       "2     11250  223500\n",
       "3      9550  140000\n",
       "4     14260  250000\n",
       "...     ...     ...\n",
       "1455   7917  175000\n",
       "1456  13175  210000\n",
       "1457   9042  266500\n",
       "1458   9717  142125\n",
       "1459   9937  147500\n",
       "\n",
       "[1460 rows x 2 columns]"
      ]
     },
     "execution_count": 4,
     "metadata": {},
     "output_type": "execute_result"
    }
   ],
   "source": [
    "dataset"
   ]
  },
  {
   "cell_type": "code",
   "execution_count": 5,
   "id": "d6bffac4-e619-4dca-8576-9ff0d02e9f32",
   "metadata": {},
   "outputs": [
    {
     "data": {
      "text/plain": [
       "(1460, 2)"
      ]
     },
     "execution_count": 5,
     "metadata": {},
     "output_type": "execute_result"
    }
   ],
   "source": [
    "# summarize the data\n",
    "dataset.shape"
   ]
  },
  {
   "cell_type": "code",
   "execution_count": 6,
   "id": "3aad1eb3-28af-43c9-afdc-e2d60800c1e3",
   "metadata": {},
   "outputs": [
    {
     "data": {
      "text/html": [
       "<div>\n",
       "<style scoped>\n",
       "    .dataframe tbody tr th:only-of-type {\n",
       "        vertical-align: middle;\n",
       "    }\n",
       "\n",
       "    .dataframe tbody tr th {\n",
       "        vertical-align: top;\n",
       "    }\n",
       "\n",
       "    .dataframe thead th {\n",
       "        text-align: right;\n",
       "    }\n",
       "</style>\n",
       "<table border=\"1\" class=\"dataframe\">\n",
       "  <thead>\n",
       "    <tr style=\"text-align: right;\">\n",
       "      <th></th>\n",
       "      <th>area</th>\n",
       "      <th>price</th>\n",
       "    </tr>\n",
       "  </thead>\n",
       "  <tbody>\n",
       "    <tr>\n",
       "      <th>0</th>\n",
       "      <td>8450</td>\n",
       "      <td>208500</td>\n",
       "    </tr>\n",
       "    <tr>\n",
       "      <th>1</th>\n",
       "      <td>9600</td>\n",
       "      <td>181500</td>\n",
       "    </tr>\n",
       "    <tr>\n",
       "      <th>2</th>\n",
       "      <td>11250</td>\n",
       "      <td>223500</td>\n",
       "    </tr>\n",
       "    <tr>\n",
       "      <th>3</th>\n",
       "      <td>9550</td>\n",
       "      <td>140000</td>\n",
       "    </tr>\n",
       "    <tr>\n",
       "      <th>4</th>\n",
       "      <td>14260</td>\n",
       "      <td>250000</td>\n",
       "    </tr>\n",
       "  </tbody>\n",
       "</table>\n",
       "</div>"
      ],
      "text/plain": [
       "    area   price\n",
       "0   8450  208500\n",
       "1   9600  181500\n",
       "2  11250  223500\n",
       "3   9550  140000\n",
       "4  14260  250000"
      ]
     },
     "execution_count": 6,
     "metadata": {},
     "output_type": "execute_result"
    }
   ],
   "source": [
    "dataset.head(5)"
   ]
  },
  {
   "cell_type": "code",
   "execution_count": 7,
   "id": "fe582886-0bc2-4d04-b7dc-054abc52bef8",
   "metadata": {},
   "outputs": [
    {
     "data": {
      "text/plain": [
       "area     int64\n",
       "price    int64\n",
       "dtype: object"
      ]
     },
     "execution_count": 7,
     "metadata": {},
     "output_type": "execute_result"
    }
   ],
   "source": [
    "# Data Cleaning\n",
    "dataset.dtypes"
   ]
  },
  {
   "cell_type": "code",
   "execution_count": 8,
   "id": "fd0009b6-60ff-4518-b91d-811714d9da4e",
   "metadata": {},
   "outputs": [
    {
     "data": {
      "text/plain": [
       "area     0\n",
       "price    0\n",
       "dtype: int64"
      ]
     },
     "execution_count": 8,
     "metadata": {},
     "output_type": "execute_result"
    }
   ],
   "source": [
    "dataset.isna().sum()"
   ]
  },
  {
   "cell_type": "code",
   "execution_count": 10,
   "id": "8c2f3cdc-2f8d-4ffc-8f2d-611f7486eaa7",
   "metadata": {},
   "outputs": [
    {
     "data": {
      "image/png": "[encoded data removed]",
      "text/plain": [
       "<Figure size 640x480 with 1 Axes>"
      ]
     },
     "metadata": {},
     "output_type": "display_data"
    }
   ],
   "source": [
    "# Visualize Datset\n",
    "plt.xlabel('Area')\n",
    "plt.ylabel('price')\n",
    "plt.scatter(dataset.area,dataset.price,color='red',marker='*')\n",
    "plt.show()"
   ]
  },
  {
   "cell_type": "code",
   "execution_count": 14,
   "id": "b0039793-40db-48ef-bffa-77911c053ba9",
   "metadata": {},
   "outputs": [
    {
     "data": {
      "text/html": [
       "<div>\n",
       "<style scoped>\n",
       "    .dataframe tbody tr th:only-of-type {\n",
       "        vertical-align: middle;\n",
       "    }\n",
       "\n",
       "    .dataframe tbody tr th {\n",
       "        vertical-align: top;\n",
       "    }\n",
       "\n",
       "    .dataframe thead th {\n",
       "        text-align: right;\n",
       "    }\n",
       "</style>\n",
       "<table border=\"1\" class=\"dataframe\">\n",
       "  <thead>\n",
       "    <tr style=\"text-align: right;\">\n",
       "      <th></th>\n",
       "      <th>area</th>\n",
       "    </tr>\n",
       "  </thead>\n",
       "  <tbody>\n",
       "    <tr>\n",
       "      <th>0</th>\n",
       "      <td>8450</td>\n",
       "    </tr>\n",
       "    <tr>\n",
       "      <th>1</th>\n",
       "      <td>9600</td>\n",
       "    </tr>\n",
       "    <tr>\n",
       "      <th>2</th>\n",
       "      <td>11250</td>\n",
       "    </tr>\n",
       "    <tr>\n",
       "      <th>3</th>\n",
       "      <td>9550</td>\n",
       "    </tr>\n",
       "    <tr>\n",
       "      <th>4</th>\n",
       "      <td>14260</td>\n",
       "    </tr>\n",
       "    <tr>\n",
       "      <th>...</th>\n",
       "      <td>...</td>\n",
       "    </tr>\n",
       "    <tr>\n",
       "      <th>1455</th>\n",
       "      <td>7917</td>\n",
       "    </tr>\n",
       "    <tr>\n",
       "      <th>1456</th>\n",
       "      <td>13175</td>\n",
       "    </tr>\n",
       "    <tr>\n",
       "      <th>1457</th>\n",
       "      <td>9042</td>\n",
       "    </tr>\n",
       "    <tr>\n",
       "      <th>1458</th>\n",
       "      <td>9717</td>\n",
       "    </tr>\n",
       "    <tr>\n",
       "      <th>1459</th>\n",
       "      <td>9937</td>\n",
       "    </tr>\n",
       "  </tbody>\n",
       "</table>\n",
       "<p>1460 rows × 1 columns</p>\n",
       "</div>"
      ],
      "text/plain": [
       "       area\n",
       "0      8450\n",
       "1      9600\n",
       "2     11250\n",
       "3      9550\n",
       "4     14260\n",
       "...     ...\n",
       "1455   7917\n",
       "1456  13175\n",
       "1457   9042\n",
       "1458   9717\n",
       "1459   9937\n",
       "\n",
       "[1460 rows x 1 columns]"
      ]
     },
     "execution_count": 14,
     "metadata": {},
     "output_type": "execute_result"
    }
   ],
   "source": [
    "# Segregate dataset into i/p X & o/p Y\n",
    "X=dataset.drop('price',axis='columns')\n",
    "X"
   ]
  },
  {
   "cell_type": "code",
   "execution_count": 13,
   "id": "b4d2747b-c816-4bdd-b424-74078b7c4c53",
   "metadata": {},
   "outputs": [
    {
     "data": {
      "text/plain": [
       "0       208500\n",
       "1       181500\n",
       "2       223500\n",
       "3       140000\n",
       "4       250000\n",
       "         ...  \n",
       "1455    175000\n",
       "1456    210000\n",
       "1457    266500\n",
       "1458    142125\n",
       "1459    147500\n",
       "Name: price, Length: 1460, dtype: int64"
      ]
     },
     "execution_count": 13,
     "metadata": {},
     "output_type": "execute_result"
    }
   ],
   "source": [
    "Y=dataset.price\n",
    "Y"
   ]
  },
  {
   "cell_type": "code",
   "execution_count": 15,
   "id": "df55398d-4587-4b4e-8461-7590b6455834",
   "metadata": {},
   "outputs": [
    {
     "data": {
      "text/html": [
       "<style>#sk-container-id-1 {color: black;background-color: white;}#sk-container-id-1 pre{padding: 0;}#sk-container-id-1 div.sk-toggleable {background-color: white;}#sk-container-id-1 label.sk-toggleable__label {cursor: pointer;display: block;width: 100%;margin-bottom: 0;padding: 0.3em;box-sizing: border-box;text-align: center;}#sk-container-id-1 label.sk-toggleable__label-arrow:before {content: \"▸\";float: left;margin-right: 0.25em;color: #696969;}#sk-container-id-1 label.sk-toggleable__label-arrow:hover:before {color: black;}#sk-container-id-1 div.sk-estimator:hover label.sk-toggleable__label-arrow:before {color: black;}#sk-container-id-1 div.sk-toggleable__content {max-height: 0;max-width: 0;overflow: hidden;text-align: left;background-color: #f0f8ff;}#sk-container-id-1 div.sk-toggleable__content pre {margin: 0.2em;color: black;border-radius: 0.25em;background-color: #f0f8ff;}#sk-container-id-1 input.sk-toggleable__control:checked~div.sk-toggleable__content {max-height: 200px;max-width: 100%;overflow: auto;}#sk-container-id-1 input.sk-toggleable__control:checked~label.sk-toggleable__label-arrow:before {content: \"▾\";}#sk-container-id-1 div.sk-estimator input.sk-toggleable__control:checked~label.sk-toggleable__label {background-color: #d4ebff;}#sk-container-id-1 div.sk-label input.sk-toggleable__control:checked~label.sk-toggleable__label {background-color: #d4ebff;}#sk-container-id-1 input.sk-hidden--visually {border: 0;clip: rect(1px 1px 1px 1px);clip: rect(1px, 1px, 1px, 1px);height: 1px;margin: -1px;overflow: hidden;padding: 0;position: absolute;width: 1px;}#sk-container-id-1 div.sk-estimator {font-family: monospace;background-color: #f0f8ff;border: 1px dotted black;border-radius: 0.25em;box-sizing: border-box;margin-bottom: 0.5em;}#sk-container-id-1 div.sk-estimator:hover {background-color: #d4ebff;}#sk-container-id-1 div.sk-parallel-item::after {content: \"\";width: 100%;border-bottom: 1px solid gray;flex-grow: 1;}#sk-container-id-1 div.sk-label:hover label.sk-toggleable__label {background-color: #d4ebff;}#sk-container-id-1 div.sk-serial::before {content: \"\";position: absolute;border-left: 1px solid gray;box-sizing: border-box;top: 0;bottom: 0;left: 50%;z-index: 0;}#sk-container-id-1 div.sk-serial {display: flex;flex-direction: column;align-items: center;background-color: white;padding-right: 0.2em;padding-left: 0.2em;position: relative;}#sk-container-id-1 div.sk-item {position: relative;z-index: 1;}#sk-container-id-1 div.sk-parallel {display: flex;align-items: stretch;justify-content: center;background-color: white;position: relative;}#sk-container-id-1 div.sk-item::before, #sk-container-id-1 div.sk-parallel-item::before {content: \"\";position: absolute;border-left: 1px solid gray;box-sizing: border-box;top: 0;bottom: 0;left: 50%;z-index: -1;}#sk-container-id-1 div.sk-parallel-item {display: flex;flex-direction: column;z-index: 1;position: relative;background-color: white;}#sk-container-id-1 div.sk-parallel-item:first-child::after {align-self: flex-end;width: 50%;}#sk-container-id-1 div.sk-parallel-item:last-child::after {align-self: flex-start;width: 50%;}#sk-container-id-1 div.sk-parallel-item:only-child::after {width: 0;}#sk-container-id-1 div.sk-dashed-wrapped {border: 1px dashed gray;margin: 0 0.4em 0.5em 0.4em;box-sizing: border-box;padding-bottom: 0.4em;background-color: white;}#sk-container-id-1 div.sk-label label {font-family: monospace;font-weight: bold;display: inline-block;line-height: 1.2em;}#sk-container-id-1 div.sk-label-container {text-align: center;}#sk-container-id-1 div.sk-container {/* jupyter's `normalize.less` sets `[hidden] { display: none; }` but bootstrap.min.css set `[hidden] { display: none !important; }` so we also need the `!important` here to be able to override the default hidden behavior on the sphinx rendered scikit-learn.org. See: https://github.com/scikit-learn/scikit-learn/issues/21755 */display: inline-block !important;position: relative;}#sk-container-id-1 div.sk-text-repr-fallback {display: none;}</style><div id=\"sk-container-id-1\" class=\"sk-top-container\"><div class=\"sk-text-repr-fallback\"><pre>LinearRegression()</pre><b>In a Jupyter environment, please rerun this cell to show the HTML representation or trust the notebook. <br />On GitHub, the HTML representation is unable to render, please try loading this page with nbviewer.org.</b></div><div class=\"sk-container\" hidden><div class=\"sk-item\"><div class=\"sk-estimator sk-toggleable\"><input class=\"sk-toggleable__control sk-hidden--visually\" id=\"sk-estimator-id-1\" type=\"checkbox\" checked><label for=\"sk-estimator-id-1\" class=\"sk-toggleable__label sk-toggleable__label-arrow\">LinearRegression</label><div class=\"sk-toggleable__content\"><pre>LinearRegression()</pre></div></div></div></div></div>"
      ],
      "text/plain": [
       "LinearRegression()"
      ]
     },
     "execution_count": 15,
     "metadata": {},
     "output_type": "execute_result"
    }
   ],
   "source": [
    "# Training Dataset using LInear Regression\n",
    "model=LinearRegression()\n",
    "model.fit(X,Y)"
   ]
  },
  {
   "cell_type": "code",
   "execution_count": 16,
   "id": "61e01658-4be7-4611-93c6-fce1bcd80903",
   "metadata": {},
   "outputs": [
    {
     "name": "stderr",
     "output_type": "stream",
     "text": [
      "E:\\anaconda\\Lib\\site-packages\\sklearn\\base.py:439: UserWarning: X does not have valid feature names, but LinearRegression was fitted with feature names\n",
      "  warnings.warn(\n"
     ]
    },
    {
     "data": {
      "text/plain": [
       "array([242835.02996518])"
      ]
     },
     "execution_count": 16,
     "metadata": {},
     "output_type": "execute_result"
    }
   ],
   "source": [
    "# Predict price for Land Sq.ft of custom values\n",
    "x=40000\n",
    "landAreainSqft=[[x]]\n",
    "result=model.predict(landAreainSqft)\n",
    "result"
   ]
  },
  {
   "cell_type": "code",
   "execution_count": 17,
   "id": "b891a543-5823-45e4-afed-bb213701c7aa",
   "metadata": {},
   "outputs": [
    {
     "data": {
      "text/plain": [
       "array([2.09997195])"
      ]
     },
     "execution_count": 17,
     "metadata": {},
     "output_type": "execute_result"
    }
   ],
   "source": [
    "# let's check is our model is Right?\n",
    "m=model.coef_\n",
    "m"
   ]
  },
  {
   "cell_type": "code",
   "execution_count": 18,
   "id": "c26de19b-b0e9-440f-81d2-daaf9902bfb4",
   "metadata": {},
   "outputs": [
    {
     "data": {
      "text/plain": [
       "158836.1518968766"
      ]
     },
     "execution_count": 18,
     "metadata": {},
     "output_type": "execute_result"
    }
   ],
   "source": [
    "#intercept\n",
    "c=model.intercept_\n",
    "c"
   ]
  },
  {
   "cell_type": "code",
   "execution_count": 19,
   "id": "a0dc8bed-764f-4797-be1f-fd42e768ce7d",
   "metadata": {},
   "outputs": [
    {
     "name": "stdout",
     "output_type": "stream",
     "text": [
      "The price of [242835.02996518] sqftland is 40000 \n"
     ]
    }
   ],
   "source": [
    "# Y=mx+c\n",
    "y=m*x+c\n",
    "print(f\"The price of {y} sqftland is {x} \")"
   ]
  },
  {
   "cell_type": "code",
   "execution_count": 20,
   "id": "db15b2fc-248b-404c-bcec-3f97507c38d9",
   "metadata": {},
   "outputs": [],
   "source": [
    "# USecase 2: Exam mark prediction using Linear Regression - Multiple Variable\n",
    "# Import lib\n",
    "import pandas as pd\n",
    "from sklearn.linear_model import LinearRegression"
   ]
  },
  {
   "cell_type": "code",
   "execution_count": 21,
   "id": "d76935bf-4fd9-480f-a890-fa459dfe2917",
   "metadata": {},
   "outputs": [],
   "source": [
    "# Load dataset\n",
    "dataset=pd.read_csv('data.csv')"
   ]
  },
  {
   "cell_type": "code",
   "execution_count": 22,
   "id": "fa1376f2-35be-428f-8f1a-5132b271fbd5",
   "metadata": {},
   "outputs": [
    {
     "data": {
      "text/html": [
       "<div>\n",
       "<style scoped>\n",
       "    .dataframe tbody tr th:only-of-type {\n",
       "        vertical-align: middle;\n",
       "    }\n",
       "\n",
       "    .dataframe tbody tr th {\n",
       "        vertical-align: top;\n",
       "    }\n",
       "\n",
       "    .dataframe thead th {\n",
       "        text-align: right;\n",
       "    }\n",
       "</style>\n",
       "<table border=\"1\" class=\"dataframe\">\n",
       "  <thead>\n",
       "    <tr style=\"text-align: right;\">\n",
       "      <th></th>\n",
       "      <th>hours</th>\n",
       "      <th>age</th>\n",
       "      <th>internet</th>\n",
       "      <th>marks</th>\n",
       "    </tr>\n",
       "  </thead>\n",
       "  <tbody>\n",
       "    <tr>\n",
       "      <th>0</th>\n",
       "      <td>6.83</td>\n",
       "      <td>15</td>\n",
       "      <td>1</td>\n",
       "      <td>78.50</td>\n",
       "    </tr>\n",
       "    <tr>\n",
       "      <th>1</th>\n",
       "      <td>6.56</td>\n",
       "      <td>16</td>\n",
       "      <td>0</td>\n",
       "      <td>76.74</td>\n",
       "    </tr>\n",
       "    <tr>\n",
       "      <th>2</th>\n",
       "      <td>NaN</td>\n",
       "      <td>17</td>\n",
       "      <td>1</td>\n",
       "      <td>78.68</td>\n",
       "    </tr>\n",
       "    <tr>\n",
       "      <th>3</th>\n",
       "      <td>5.67</td>\n",
       "      <td>18</td>\n",
       "      <td>0</td>\n",
       "      <td>71.82</td>\n",
       "    </tr>\n",
       "    <tr>\n",
       "      <th>4</th>\n",
       "      <td>8.67</td>\n",
       "      <td>19</td>\n",
       "      <td>1</td>\n",
       "      <td>84.19</td>\n",
       "    </tr>\n",
       "    <tr>\n",
       "      <th>...</th>\n",
       "      <td>...</td>\n",
       "      <td>...</td>\n",
       "      <td>...</td>\n",
       "      <td>...</td>\n",
       "    </tr>\n",
       "    <tr>\n",
       "      <th>196</th>\n",
       "      <td>8.56</td>\n",
       "      <td>19</td>\n",
       "      <td>1</td>\n",
       "      <td>84.68</td>\n",
       "    </tr>\n",
       "    <tr>\n",
       "      <th>197</th>\n",
       "      <td>8.94</td>\n",
       "      <td>20</td>\n",
       "      <td>1</td>\n",
       "      <td>86.75</td>\n",
       "    </tr>\n",
       "    <tr>\n",
       "      <th>198</th>\n",
       "      <td>6.60</td>\n",
       "      <td>15</td>\n",
       "      <td>1</td>\n",
       "      <td>78.05</td>\n",
       "    </tr>\n",
       "    <tr>\n",
       "      <th>199</th>\n",
       "      <td>8.35</td>\n",
       "      <td>16</td>\n",
       "      <td>1</td>\n",
       "      <td>83.50</td>\n",
       "    </tr>\n",
       "    <tr>\n",
       "      <th>200</th>\n",
       "      <td>4.15</td>\n",
       "      <td>15</td>\n",
       "      <td>0</td>\n",
       "      <td>81.45</td>\n",
       "    </tr>\n",
       "  </tbody>\n",
       "</table>\n",
       "<p>201 rows × 4 columns</p>\n",
       "</div>"
      ],
      "text/plain": [
       "     hours  age  internet  marks\n",
       "0     6.83   15         1  78.50\n",
       "1     6.56   16         0  76.74\n",
       "2      NaN   17         1  78.68\n",
       "3     5.67   18         0  71.82\n",
       "4     8.67   19         1  84.19\n",
       "..     ...  ...       ...    ...\n",
       "196   8.56   19         1  84.68\n",
       "197   8.94   20         1  86.75\n",
       "198   6.60   15         1  78.05\n",
       "199   8.35   16         1  83.50\n",
       "200   4.15   15         0  81.45\n",
       "\n",
       "[201 rows x 4 columns]"
      ]
     },
     "execution_count": 22,
     "metadata": {},
     "output_type": "execute_result"
    }
   ],
   "source": [
    "dataset"
   ]
  },
  {
   "cell_type": "code",
   "execution_count": 23,
   "id": "0d2adef8-ef25-4063-b7fb-b8f015afcdd4",
   "metadata": {},
   "outputs": [
    {
     "data": {
      "text/plain": [
       "(201, 4)"
      ]
     },
     "execution_count": 23,
     "metadata": {},
     "output_type": "execute_result"
    }
   ],
   "source": [
    "dataset.shape"
   ]
  },
  {
   "cell_type": "code",
   "execution_count": 24,
   "id": "b65b8598-e07c-4ecd-b214-b799cf816120",
   "metadata": {},
   "outputs": [
    {
     "data": {
      "text/html": [
       "<div>\n",
       "<style scoped>\n",
       "    .dataframe tbody tr th:only-of-type {\n",
       "        vertical-align: middle;\n",
       "    }\n",
       "\n",
       "    .dataframe tbody tr th {\n",
       "        vertical-align: top;\n",
       "    }\n",
       "\n",
       "    .dataframe thead th {\n",
       "        text-align: right;\n",
       "    }\n",
       "</style>\n",
       "<table border=\"1\" class=\"dataframe\">\n",
       "  <thead>\n",
       "    <tr style=\"text-align: right;\">\n",
       "      <th></th>\n",
       "      <th>hours</th>\n",
       "      <th>age</th>\n",
       "      <th>internet</th>\n",
       "      <th>marks</th>\n",
       "    </tr>\n",
       "  </thead>\n",
       "  <tbody>\n",
       "    <tr>\n",
       "      <th>0</th>\n",
       "      <td>6.83</td>\n",
       "      <td>15</td>\n",
       "      <td>1</td>\n",
       "      <td>78.50</td>\n",
       "    </tr>\n",
       "    <tr>\n",
       "      <th>1</th>\n",
       "      <td>6.56</td>\n",
       "      <td>16</td>\n",
       "      <td>0</td>\n",
       "      <td>76.74</td>\n",
       "    </tr>\n",
       "    <tr>\n",
       "      <th>2</th>\n",
       "      <td>NaN</td>\n",
       "      <td>17</td>\n",
       "      <td>1</td>\n",
       "      <td>78.68</td>\n",
       "    </tr>\n",
       "    <tr>\n",
       "      <th>3</th>\n",
       "      <td>5.67</td>\n",
       "      <td>18</td>\n",
       "      <td>0</td>\n",
       "      <td>71.82</td>\n",
       "    </tr>\n",
       "    <tr>\n",
       "      <th>4</th>\n",
       "      <td>8.67</td>\n",
       "      <td>19</td>\n",
       "      <td>1</td>\n",
       "      <td>84.19</td>\n",
       "    </tr>\n",
       "  </tbody>\n",
       "</table>\n",
       "</div>"
      ],
      "text/plain": [
       "   hours  age  internet  marks\n",
       "0   6.83   15         1  78.50\n",
       "1   6.56   16         0  76.74\n",
       "2    NaN   17         1  78.68\n",
       "3   5.67   18         0  71.82\n",
       "4   8.67   19         1  84.19"
      ]
     },
     "execution_count": 24,
     "metadata": {},
     "output_type": "execute_result"
    }
   ],
   "source": [
    "dataset.head(5)"
   ]
  },
  {
   "cell_type": "code",
   "execution_count": 26,
   "id": "ca4297f8-0e34-424c-862f-0b86f1708396",
   "metadata": {},
   "outputs": [
    {
     "data": {
      "text/plain": [
       "Index(['hours'], dtype='object')"
      ]
     },
     "execution_count": 26,
     "metadata": {},
     "output_type": "execute_result"
    }
   ],
   "source": [
    "# Finding & Removing NAN from our Features X\n",
    "dataset.columns[dataset.isna().any()]"
   ]
  },
  {
   "cell_type": "code",
   "execution_count": 27,
   "id": "ec6d568a-6d6b-4de3-8ef3-932c1dd89d49",
   "metadata": {},
   "outputs": [
    {
     "data": {
      "text/plain": [
       "hours       float64\n",
       "age           int64\n",
       "internet      int64\n",
       "marks       float64\n",
       "dtype: object"
      ]
     },
     "execution_count": 27,
     "metadata": {},
     "output_type": "execute_result"
    }
   ],
   "source": [
    "dataset.dtypes"
   ]
  },
  {
   "cell_type": "code",
   "execution_count": 28,
   "id": "8842a428-0a88-4d73-b716-ead877404187",
   "metadata": {},
   "outputs": [
    {
     "data": {
      "text/plain": [
       "hours       6\n",
       "age         0\n",
       "internet    0\n",
       "marks       0\n",
       "dtype: int64"
      ]
     },
     "execution_count": 28,
     "metadata": {},
     "output_type": "execute_result"
    }
   ],
   "source": [
    "dataset.isna().sum()"
   ]
  },
  {
   "cell_type": "code",
   "execution_count": 29,
   "id": "75daedab-3801-4225-aba8-601781058734",
   "metadata": {},
   "outputs": [],
   "source": [
    "dataset.hours=dataset.hours.fillna(dataset.hours.mean())"
   ]
  },
  {
   "cell_type": "code",
   "execution_count": 30,
   "id": "209e4d66-18c4-4c74-b6d9-97d19f78afd7",
   "metadata": {},
   "outputs": [
    {
     "data": {
      "text/plain": [
       "hours       0\n",
       "age         0\n",
       "internet    0\n",
       "marks       0\n",
       "dtype: int64"
      ]
     },
     "execution_count": 30,
     "metadata": {},
     "output_type": "execute_result"
    }
   ],
   "source": [
    "dataset.isna().sum()"
   ]
  },
  {
   "cell_type": "code",
   "execution_count": 31,
   "id": "0816ede7-8260-4c15-b2c9-1cfb08e9016d",
   "metadata": {},
   "outputs": [
    {
     "data": {
      "text/plain": [
       "array([[ 6.83      , 15.        ,  1.        ],\n",
       "       [ 6.56      , 16.        ,  0.        ],\n",
       "       [ 6.99061538, 17.        ,  1.        ],\n",
       "       [ 5.67      , 18.        ,  0.        ],\n",
       "       [ 8.67      , 19.        ,  1.        ],\n",
       "       [ 7.55      , 20.        ,  0.        ],\n",
       "       [ 6.67      , 15.        ,  0.        ],\n",
       "       [ 8.99      , 16.        ,  0.        ],\n",
       "       [ 6.99061538, 17.        ,  1.        ],\n",
       "       [ 6.75      , 18.        ,  0.        ],\n",
       "       [ 6.59      , 19.        ,  0.        ],\n",
       "       [ 8.56      , 20.        ,  1.        ],\n",
       "       [ 7.75      , 15.        ,  0.        ],\n",
       "       [ 7.9       , 16.        ,  1.        ],\n",
       "       [ 8.19      , 17.        ,  0.        ],\n",
       "       [ 6.55      , 18.        ,  1.        ],\n",
       "       [ 6.36      , 19.        ,  0.        ],\n",
       "       [ 8.44      , 20.        ,  1.        ],\n",
       "       [ 8.41      , 15.        ,  0.        ],\n",
       "       [ 7.67      , 16.        ,  1.        ],\n",
       "       [ 7.42      , 17.        ,  1.        ],\n",
       "       [ 8.16      , 18.        ,  1.        ],\n",
       "       [ 5.05      , 19.        ,  1.        ],\n",
       "       [ 5.85      , 20.        ,  1.        ],\n",
       "       [ 5.45      , 15.        ,  0.        ],\n",
       "       [ 7.96      , 16.        ,  0.        ],\n",
       "       [ 6.51      , 17.        ,  0.        ],\n",
       "       [ 6.73      , 18.        ,  0.        ],\n",
       "       [ 5.94      , 19.        ,  1.        ],\n",
       "       [ 7.48      , 20.        ,  0.        ],\n",
       "       [ 8.13      , 15.        ,  1.        ],\n",
       "       [ 6.99061538, 16.        ,  1.        ],\n",
       "       [ 5.4       , 17.        ,  1.        ],\n",
       "       [ 8.78      , 18.        ,  0.        ],\n",
       "       [ 8.72      , 19.        ,  1.        ],\n",
       "       [ 7.1       , 20.        ,  0.        ],\n",
       "       [ 7.86      , 15.        ,  1.        ],\n",
       "       [ 7.19      , 16.        ,  0.        ],\n",
       "       [ 5.62      , 17.        ,  1.        ],\n",
       "       [ 7.88      , 18.        ,  0.        ],\n",
       "       [ 5.28      , 19.        ,  1.        ],\n",
       "       [ 8.92      , 20.        ,  1.        ],\n",
       "       [ 5.46      , 15.        ,  0.        ],\n",
       "       [ 8.3       , 16.        ,  1.        ],\n",
       "       [ 8.09      , 17.        ,  0.        ],\n",
       "       [ 6.18      , 18.        ,  1.        ],\n",
       "       [ 7.01      , 19.        ,  1.        ],\n",
       "       [ 5.01      , 20.        ,  0.        ],\n",
       "       [ 5.54      , 15.        ,  1.        ],\n",
       "       [ 5.09      , 16.        ,  1.        ],\n",
       "       [ 5.09      , 17.        ,  0.        ],\n",
       "       [ 7.31      , 18.        ,  1.        ],\n",
       "       [ 8.71      , 19.        ,  0.        ],\n",
       "       [ 5.52      , 20.        ,  1.        ],\n",
       "       [ 8.76      , 15.        ,  0.        ],\n",
       "       [ 8.69      , 16.        ,  1.        ],\n",
       "       [ 5.75      , 17.        ,  1.        ],\n",
       "       [ 8.93      , 18.        ,  1.        ],\n",
       "       [ 5.39      , 19.        ,  1.        ],\n",
       "       [ 5.65      , 20.        ,  0.        ],\n",
       "       [ 5.49      , 15.        ,  1.        ],\n",
       "       [ 7.26      , 16.        ,  1.        ],\n",
       "       [ 6.35      , 17.        ,  0.        ],\n",
       "       [ 7.72      , 18.        ,  1.        ],\n",
       "       [ 8.88      , 19.        ,  0.        ],\n",
       "       [ 5.45      , 20.        ,  1.        ],\n",
       "       [ 7.86      , 15.        ,  1.        ],\n",
       "       [ 8.26      , 16.        ,  0.        ],\n",
       "       [ 5.07      , 17.        ,  1.        ],\n",
       "       [ 8.25      , 18.        ,  0.        ],\n",
       "       [ 5.37      , 19.        ,  1.        ],\n",
       "       [ 5.11      , 20.        ,  1.        ],\n",
       "       [ 6.35      , 15.        ,  0.        ],\n",
       "       [ 7.41      , 16.        ,  1.        ],\n",
       "       [ 7.31      , 17.        ,  0.        ],\n",
       "       [ 6.04      , 18.        ,  1.        ],\n",
       "       [ 5.11      , 19.        ,  1.        ],\n",
       "       [ 6.56      , 20.        ,  0.        ],\n",
       "       [ 5.09      , 15.        ,  1.        ],\n",
       "       [ 5.88      , 16.        ,  0.        ],\n",
       "       [ 8.34      , 17.        ,  1.        ],\n",
       "       [ 7.94      , 18.        ,  0.        ],\n",
       "       [ 6.66      , 19.        ,  1.        ],\n",
       "       [ 6.01      , 20.        ,  1.        ],\n",
       "       [ 6.88      , 15.        ,  0.        ],\n",
       "       [ 5.63      , 16.        ,  1.        ],\n",
       "       [ 5.88      , 17.        ,  0.        ],\n",
       "       [ 8.05      , 18.        ,  1.        ],\n",
       "       [ 5.33      , 19.        ,  0.        ],\n",
       "       [ 8.79      , 20.        ,  0.        ],\n",
       "       [ 7.52      , 15.        ,  1.        ],\n",
       "       [ 8.2       , 16.        ,  0.        ],\n",
       "       [ 5.44      , 17.        ,  1.        ],\n",
       "       [ 7.9       , 18.        ,  0.        ],\n",
       "       [ 7.69      , 19.        ,  1.        ],\n",
       "       [ 6.09      , 20.        ,  0.        ],\n",
       "       [ 6.99061538, 15.        ,  1.        ],\n",
       "       [ 5.2       , 16.        ,  1.        ],\n",
       "       [ 8.88      , 17.        ,  0.        ],\n",
       "       [ 8.07      , 18.        ,  1.        ],\n",
       "       [ 6.24      , 19.        ,  1.        ],\n",
       "       [ 7.95      , 20.        ,  0.        ],\n",
       "       [ 8.26      , 15.        ,  0.        ],\n",
       "       [ 7.31      , 16.        ,  1.        ],\n",
       "       [ 7.23      , 17.        ,  1.        ],\n",
       "       [ 6.46      , 18.        ,  1.        ],\n",
       "       [ 5.34      , 19.        ,  1.        ],\n",
       "       [ 5.72      , 20.        ,  1.        ],\n",
       "       [ 5.84      , 15.        ,  0.        ],\n",
       "       [ 5.02      , 16.        ,  1.        ],\n",
       "       [ 7.98      , 17.        ,  0.        ],\n",
       "       [ 6.37      , 18.        ,  1.        ],\n",
       "       [ 6.92      , 19.        ,  0.        ],\n",
       "       [ 7.95      , 20.        ,  1.        ],\n",
       "       [ 7.12      , 15.        ,  0.        ],\n",
       "       [ 5.79      , 16.        ,  1.        ],\n",
       "       [ 5.4       , 17.        ,  0.        ],\n",
       "       [ 8.83      , 18.        ,  1.        ],\n",
       "       [ 5.69      , 19.        ,  0.        ],\n",
       "       [ 6.6       , 20.        ,  1.        ],\n",
       "       [ 6.52      , 15.        ,  0.        ],\n",
       "       [ 8.31      , 16.        ,  0.        ],\n",
       "       [ 6.99061538, 17.        ,  1.        ],\n",
       "       [ 7.62      , 18.        ,  0.        ],\n",
       "       [ 8.69      , 19.        ,  1.        ],\n",
       "       [ 8.75      , 20.        ,  0.        ],\n",
       "       [ 6.46      , 15.        ,  1.        ],\n",
       "       [ 7.14      , 16.        ,  1.        ],\n",
       "       [ 6.38      , 17.        ,  0.        ],\n",
       "       [ 6.33      , 18.        ,  1.        ],\n",
       "       [ 5.64      , 19.        ,  0.        ],\n",
       "       [ 5.26      , 20.        ,  1.        ],\n",
       "       [ 6.83      , 15.        ,  1.        ],\n",
       "       [ 5.76      , 16.        ,  0.        ],\n",
       "       [ 6.51      , 17.        ,  1.        ],\n",
       "       [ 8.33      , 18.        ,  0.        ],\n",
       "       [ 8.16      , 19.        ,  1.        ],\n",
       "       [ 5.14      , 20.        ,  0.        ],\n",
       "       [ 8.71      , 15.        ,  0.        ],\n",
       "       [ 8.6       , 16.        ,  1.        ],\n",
       "       [ 8.6       , 17.        ,  0.        ],\n",
       "       [ 7.43      , 18.        ,  1.        ],\n",
       "       [ 7.81      , 19.        ,  1.        ],\n",
       "       [ 6.51      , 20.        ,  0.        ],\n",
       "       [ 8.11      , 15.        ,  1.        ],\n",
       "       [ 8.95      , 16.        ,  0.        ],\n",
       "       [ 7.99      , 17.        ,  1.        ],\n",
       "       [ 5.92      , 18.        ,  0.        ],\n",
       "       [ 8.3       , 19.        ,  1.        ],\n",
       "       [ 8.97      , 20.        ,  0.        ],\n",
       "       [ 5.39      , 15.        ,  0.        ],\n",
       "       [ 6.77      , 16.        ,  0.        ],\n",
       "       [ 8.08      , 17.        ,  1.        ],\n",
       "       [ 5.24      , 18.        ,  0.        ],\n",
       "       [ 6.93      , 19.        ,  1.        ],\n",
       "       [ 5.14      , 20.        ,  0.        ],\n",
       "       [ 8.39      , 15.        ,  1.        ],\n",
       "       [ 6.18      , 16.        ,  0.        ],\n",
       "       [ 7.53      , 17.        ,  1.        ],\n",
       "       [ 7.86      , 18.        ,  0.        ],\n",
       "       [ 7.7       , 19.        ,  1.        ],\n",
       "       [ 7.3       , 20.        ,  0.        ],\n",
       "       [ 7.79      , 15.        ,  1.        ],\n",
       "       [ 6.75      , 16.        ,  0.        ],\n",
       "       [ 7.87      , 17.        ,  1.        ],\n",
       "       [ 5.38      , 18.        ,  0.        ],\n",
       "       [ 7.8       , 19.        ,  1.        ],\n",
       "       [ 5.07      , 20.        ,  0.        ],\n",
       "       [ 7.95      , 15.        ,  1.        ],\n",
       "       [ 8.35      , 16.        ,  0.        ],\n",
       "       [ 5.19      , 17.        ,  0.        ],\n",
       "       [ 7.19      , 18.        ,  0.        ],\n",
       "       [ 7.35      , 19.        ,  1.        ],\n",
       "       [ 5.22      , 20.        ,  1.        ],\n",
       "       [ 5.39      , 15.        ,  1.        ],\n",
       "       [ 5.39      , 16.        ,  1.        ],\n",
       "       [ 8.93      , 17.        ,  1.        ],\n",
       "       [ 5.79      , 18.        ,  0.        ],\n",
       "       [ 8.42      , 19.        ,  1.        ],\n",
       "       [ 7.26      , 20.        ,  0.        ],\n",
       "       [ 6.97      , 15.        ,  1.        ],\n",
       "       [ 5.55      , 16.        ,  1.        ],\n",
       "       [ 8.66      , 17.        ,  0.        ],\n",
       "       [ 8.61      , 18.        ,  1.        ],\n",
       "       [ 5.22      , 19.        ,  1.        ],\n",
       "       [ 8.05      , 20.        ,  0.        ],\n",
       "       [ 8.87      , 15.        ,  1.        ],\n",
       "       [ 5.54      , 16.        ,  0.        ],\n",
       "       [ 6.99061538, 17.        ,  0.        ],\n",
       "       [ 7.26      , 18.        ,  1.        ],\n",
       "       [ 5.79      , 19.        ,  0.        ],\n",
       "       [ 5.22      , 20.        ,  0.        ],\n",
       "       [ 8.71      , 15.        ,  1.        ],\n",
       "       [ 7.55      , 16.        ,  1.        ],\n",
       "       [ 6.35      , 17.        ,  1.        ],\n",
       "       [ 7.53      , 18.        ,  0.        ],\n",
       "       [ 8.56      , 19.        ,  1.        ],\n",
       "       [ 8.94      , 20.        ,  1.        ],\n",
       "       [ 6.6       , 15.        ,  1.        ],\n",
       "       [ 8.35      , 16.        ,  1.        ],\n",
       "       [ 4.15      , 15.        ,  0.        ]])"
      ]
     },
     "execution_count": 31,
     "metadata": {},
     "output_type": "execute_result"
    }
   ],
   "source": [
    "# Segregate dataset into i/p X and o/p Y\n",
    "X=dataset.iloc[:,:-1].values\n",
    "X"
   ]
  },
  {
   "cell_type": "code",
   "execution_count": 32,
   "id": "ce6c13e2-94e1-47ab-ba77-efad4d01dbfc",
   "metadata": {},
   "outputs": [
    {
     "data": {
      "text/plain": [
       "array([78.5 , 76.74, 78.68, 71.82, 84.19, 81.18, 76.99, 85.46, 70.66,\n",
       "       77.82, 75.37, 83.88, 79.5 , 80.76, 83.08, 76.03, 76.04, 85.11,\n",
       "       82.5 , 80.58, 82.18, 83.36, 70.67, 75.02, 70.96, 83.33, 74.75,\n",
       "       75.65, 74.15, 80.17, 82.27, 76.14, 71.1 , 84.35, 83.08, 76.76,\n",
       "       81.24, 78.21, 73.08, 83.23, 70.27, 86.41, 71.1 , 82.84, 82.38,\n",
       "       72.96, 77.46, 70.11, 72.38, 71.41, 72.22, 77.77, 84.44, 71.45,\n",
       "       82.21, 85.48, 75.03, 86.65, 70.9 , 71.7 , 73.61, 79.41, 76.19,\n",
       "       80.43, 85.78, 70.06, 81.25, 81.7 , 69.27, 82.79, 71.8 , 71.79,\n",
       "       74.97, 78.61, 77.59, 72.33, 72.08, 77.33, 70.05, 73.34, 84.  ,\n",
       "       82.93, 76.63, 75.36, 77.29, 72.87, 73.4 , 81.74, 71.85, 84.6 ,\n",
       "       79.56, 82.1 , 72.08, 79.1 , 81.01, 76.48, 75.39, 68.57, 83.64,\n",
       "       82.3 , 75.18, 82.03, 82.99, 79.26, 77.55, 77.07, 72.1 , 73.25,\n",
       "       74.25, 70.58, 81.08, 75.04, 76.38, 80.86, 78.42, 74.44, 70.34,\n",
       "       85.04, 73.61, 75.55, 76.2 , 82.69, 76.83, 79.53, 83.57, 85.95,\n",
       "       76.02, 77.65, 77.01, 74.49, 73.19, 71.86, 75.8 , 72.46, 78.39,\n",
       "       83.48, 83.15, 71.22, 85.98, 83.91, 84.58, 80.31, 82.55, 75.52,\n",
       "       83.82, 85.15, 82.75, 74.34, 82.02, 86.12, 71.87, 76.7 , 81.7 ,\n",
       "       70.78, 78.45, 70.2 , 83.37, 75.52, 81.57, 80.72, 80.81, 79.49,\n",
       "       79.17, 77.07, 82.04, 71.94, 81.6 , 70.79, 82.68, 83.08, 71.18,\n",
       "       77.63, 77.78, 70.4 , 73.02, 71.11, 85.96, 73.64, 84.24, 78.17,\n",
       "       77.19, 71.83, 86.99, 83.87, 71.5 , 79.63, 85.1 , 72.01, 77.27,\n",
       "       79.87, 73.14, 70.51, 84.03, 79.64, 74.24, 81.67, 84.68, 86.75,\n",
       "       78.05, 83.5 , 81.45])"
      ]
     },
     "execution_count": 32,
     "metadata": {},
     "output_type": "execute_result"
    }
   ],
   "source": [
    "Y=dataset.iloc[:,-1].values\n",
    "Y"
   ]
  },
  {
   "cell_type": "code",
   "execution_count": 33,
   "id": "058a4f2e-b80a-47e5-a1e2-bf0197bad5c9",
   "metadata": {},
   "outputs": [
    {
     "data": {
      "text/html": [
       "<style>#sk-container-id-2 {color: black;background-color: white;}#sk-container-id-2 pre{padding: 0;}#sk-container-id-2 div.sk-toggleable {background-color: white;}#sk-container-id-2 label.sk-toggleable__label {cursor: pointer;display: block;width: 100%;margin-bottom: 0;padding: 0.3em;box-sizing: border-box;text-align: center;}#sk-container-id-2 label.sk-toggleable__label-arrow:before {content: \"▸\";float: left;margin-right: 0.25em;color: #696969;}#sk-container-id-2 label.sk-toggleable__label-arrow:hover:before {color: black;}#sk-container-id-2 div.sk-estimator:hover label.sk-toggleable__label-arrow:before {color: black;}#sk-container-id-2 div.sk-toggleable__content {max-height: 0;max-width: 0;overflow: hidden;text-align: left;background-color: #f0f8ff;}#sk-container-id-2 div.sk-toggleable__content pre {margin: 0.2em;color: black;border-radius: 0.25em;background-color: #f0f8ff;}#sk-container-id-2 input.sk-toggleable__control:checked~div.sk-toggleable__content {max-height: 200px;max-width: 100%;overflow: auto;}#sk-container-id-2 input.sk-toggleable__control:checked~label.sk-toggleable__label-arrow:before {content: \"▾\";}#sk-container-id-2 div.sk-estimator input.sk-toggleable__control:checked~label.sk-toggleable__label {background-color: #d4ebff;}#sk-container-id-2 div.sk-label input.sk-toggleable__control:checked~label.sk-toggleable__label {background-color: #d4ebff;}#sk-container-id-2 input.sk-hidden--visually {border: 0;clip: rect(1px 1px 1px 1px);clip: rect(1px, 1px, 1px, 1px);height: 1px;margin: -1px;overflow: hidden;padding: 0;position: absolute;width: 1px;}#sk-container-id-2 div.sk-estimator {font-family: monospace;background-color: #f0f8ff;border: 1px dotted black;border-radius: 0.25em;box-sizing: border-box;margin-bottom: 0.5em;}#sk-container-id-2 div.sk-estimator:hover {background-color: #d4ebff;}#sk-container-id-2 div.sk-parallel-item::after {content: \"\";width: 100%;border-bottom: 1px solid gray;flex-grow: 1;}#sk-container-id-2 div.sk-label:hover label.sk-toggleable__label {background-color: #d4ebff;}#sk-container-id-2 div.sk-serial::before {content: \"\";position: absolute;border-left: 1px solid gray;box-sizing: border-box;top: 0;bottom: 0;left: 50%;z-index: 0;}#sk-container-id-2 div.sk-serial {display: flex;flex-direction: column;align-items: center;background-color: white;padding-right: 0.2em;padding-left: 0.2em;position: relative;}#sk-container-id-2 div.sk-item {position: relative;z-index: 1;}#sk-container-id-2 div.sk-parallel {display: flex;align-items: stretch;justify-content: center;background-color: white;position: relative;}#sk-container-id-2 div.sk-item::before, #sk-container-id-2 div.sk-parallel-item::before {content: \"\";position: absolute;border-left: 1px solid gray;box-sizing: border-box;top: 0;bottom: 0;left: 50%;z-index: -1;}#sk-container-id-2 div.sk-parallel-item {display: flex;flex-direction: column;z-index: 1;position: relative;background-color: white;}#sk-container-id-2 div.sk-parallel-item:first-child::after {align-self: flex-end;width: 50%;}#sk-container-id-2 div.sk-parallel-item:last-child::after {align-self: flex-start;width: 50%;}#sk-container-id-2 div.sk-parallel-item:only-child::after {width: 0;}#sk-container-id-2 div.sk-dashed-wrapped {border: 1px dashed gray;margin: 0 0.4em 0.5em 0.4em;box-sizing: border-box;padding-bottom: 0.4em;background-color: white;}#sk-container-id-2 div.sk-label label {font-family: monospace;font-weight: bold;display: inline-block;line-height: 1.2em;}#sk-container-id-2 div.sk-label-container {text-align: center;}#sk-container-id-2 div.sk-container {/* jupyter's `normalize.less` sets `[hidden] { display: none; }` but bootstrap.min.css set `[hidden] { display: none !important; }` so we also need the `!important` here to be able to override the default hidden behavior on the sphinx rendered scikit-learn.org. See: https://github.com/scikit-learn/scikit-learn/issues/21755 */display: inline-block !important;position: relative;}#sk-container-id-2 div.sk-text-repr-fallback {display: none;}</style><div id=\"sk-container-id-2\" class=\"sk-top-container\"><div class=\"sk-text-repr-fallback\"><pre>LinearRegression()</pre><b>In a Jupyter environment, please rerun this cell to show the HTML representation or trust the notebook. <br />On GitHub, the HTML representation is unable to render, please try loading this page with nbviewer.org.</b></div><div class=\"sk-container\" hidden><div class=\"sk-item\"><div class=\"sk-estimator sk-toggleable\"><input class=\"sk-toggleable__control sk-hidden--visually\" id=\"sk-estimator-id-2\" type=\"checkbox\" checked><label for=\"sk-estimator-id-2\" class=\"sk-toggleable__label sk-toggleable__label-arrow\">LinearRegression</label><div class=\"sk-toggleable__content\"><pre>LinearRegression()</pre></div></div></div></div></div>"
      ],
      "text/plain": [
       "LinearRegression()"
      ]
     },
     "execution_count": 33,
     "metadata": {},
     "output_type": "execute_result"
    }
   ],
   "source": [
    "# Train the Dataset using Linear REgression MOdel\n",
    "model=LinearRegression()\n",
    "model.fit(X,Y)"
   ]
  },
  {
   "cell_type": "code",
   "execution_count": 35,
   "id": "23c8859c-b2fe-4e95-bafe-46c8912ba3f9",
   "metadata": {},
   "outputs": [
    {
     "data": {
      "text/plain": [
       "array([84.19238177])"
      ]
     },
     "execution_count": 35,
     "metadata": {},
     "output_type": "execute_result"
    }
   ],
   "source": [
    "#predict exam marks based on hours,age and internet\n",
    "data=[[8.67,19,1]]\n",
    "model.predict(data)"
   ]
  },
  {
   "cell_type": "code",
   "execution_count": 36,
   "id": "edfd7573-b467-4a0f-9f42-63e15d8d1b19",
   "metadata": {},
   "outputs": [],
   "source": [
    "# Splitting dataset into Train & Test\n",
    "from sklearn.model_selection import train_test_split"
   ]
  },
  {
   "cell_type": "code",
   "execution_count": 37,
   "id": "4ee810ad-cf38-4c4b-9833-d6cfaabe4086",
   "metadata": {},
   "outputs": [],
   "source": [
    "X_train,X_test,Y_train,Y_test=train_test_split(X,Y,test_size=0.25,random_state=0)"
   ]
  },
  {
   "cell_type": "code",
   "execution_count": 38,
   "id": "7c16a621-d189-4ecb-9fdf-b7620c9befab",
   "metadata": {},
   "outputs": [
    {
     "data": {
      "text/html": [
       "<style>#sk-container-id-3 {color: black;background-color: white;}#sk-container-id-3 pre{padding: 0;}#sk-container-id-3 div.sk-toggleable {background-color: white;}#sk-container-id-3 label.sk-toggleable__label {cursor: pointer;display: block;width: 100%;margin-bottom: 0;padding: 0.3em;box-sizing: border-box;text-align: center;}#sk-container-id-3 label.sk-toggleable__label-arrow:before {content: \"▸\";float: left;margin-right: 0.25em;color: #696969;}#sk-container-id-3 label.sk-toggleable__label-arrow:hover:before {color: black;}#sk-container-id-3 div.sk-estimator:hover label.sk-toggleable__label-arrow:before {color: black;}#sk-container-id-3 div.sk-toggleable__content {max-height: 0;max-width: 0;overflow: hidden;text-align: left;background-color: #f0f8ff;}#sk-container-id-3 div.sk-toggleable__content pre {margin: 0.2em;color: black;border-radius: 0.25em;background-color: #f0f8ff;}#sk-container-id-3 input.sk-toggleable__control:checked~div.sk-toggleable__content {max-height: 200px;max-width: 100%;overflow: auto;}#sk-container-id-3 input.sk-toggleable__control:checked~label.sk-toggleable__label-arrow:before {content: \"▾\";}#sk-container-id-3 div.sk-estimator input.sk-toggleable__control:checked~label.sk-toggleable__label {background-color: #d4ebff;}#sk-container-id-3 div.sk-label input.sk-toggleable__control:checked~label.sk-toggleable__label {background-color: #d4ebff;}#sk-container-id-3 input.sk-hidden--visually {border: 0;clip: rect(1px 1px 1px 1px);clip: rect(1px, 1px, 1px, 1px);height: 1px;margin: -1px;overflow: hidden;padding: 0;position: absolute;width: 1px;}#sk-container-id-3 div.sk-estimator {font-family: monospace;background-color: #f0f8ff;border: 1px dotted black;border-radius: 0.25em;box-sizing: border-box;margin-bottom: 0.5em;}#sk-container-id-3 div.sk-estimator:hover {background-color: #d4ebff;}#sk-container-id-3 div.sk-parallel-item::after {content: \"\";width: 100%;border-bottom: 1px solid gray;flex-grow: 1;}#sk-container-id-3 div.sk-label:hover label.sk-toggleable__label {background-color: #d4ebff;}#sk-container-id-3 div.sk-serial::before {content: \"\";position: absolute;border-left: 1px solid gray;box-sizing: border-box;top: 0;bottom: 0;left: 50%;z-index: 0;}#sk-container-id-3 div.sk-serial {display: flex;flex-direction: column;align-items: center;background-color: white;padding-right: 0.2em;padding-left: 0.2em;position: relative;}#sk-container-id-3 div.sk-item {position: relative;z-index: 1;}#sk-container-id-3 div.sk-parallel {display: flex;align-items: stretch;justify-content: center;background-color: white;position: relative;}#sk-container-id-3 div.sk-item::before, #sk-container-id-3 div.sk-parallel-item::before {content: \"\";position: absolute;border-left: 1px solid gray;box-sizing: border-box;top: 0;bottom: 0;left: 50%;z-index: -1;}#sk-container-id-3 div.sk-parallel-item {display: flex;flex-direction: column;z-index: 1;position: relative;background-color: white;}#sk-container-id-3 div.sk-parallel-item:first-child::after {align-self: flex-end;width: 50%;}#sk-container-id-3 div.sk-parallel-item:last-child::after {align-self: flex-start;width: 50%;}#sk-container-id-3 div.sk-parallel-item:only-child::after {width: 0;}#sk-container-id-3 div.sk-dashed-wrapped {border: 1px dashed gray;margin: 0 0.4em 0.5em 0.4em;box-sizing: border-box;padding-bottom: 0.4em;background-color: white;}#sk-container-id-3 div.sk-label label {font-family: monospace;font-weight: bold;display: inline-block;line-height: 1.2em;}#sk-container-id-3 div.sk-label-container {text-align: center;}#sk-container-id-3 div.sk-container {/* jupyter's `normalize.less` sets `[hidden] { display: none; }` but bootstrap.min.css set `[hidden] { display: none !important; }` so we also need the `!important` here to be able to override the default hidden behavior on the sphinx rendered scikit-learn.org. See: https://github.com/scikit-learn/scikit-learn/issues/21755 */display: inline-block !important;position: relative;}#sk-container-id-3 div.sk-text-repr-fallback {display: none;}</style><div id=\"sk-container-id-3\" class=\"sk-top-container\"><div class=\"sk-text-repr-fallback\"><pre>LinearRegression()</pre><b>In a Jupyter environment, please rerun this cell to show the HTML representation or trust the notebook. <br />On GitHub, the HTML representation is unable to render, please try loading this page with nbviewer.org.</b></div><div class=\"sk-container\" hidden><div class=\"sk-item\"><div class=\"sk-estimator sk-toggleable\"><input class=\"sk-toggleable__control sk-hidden--visually\" id=\"sk-estimator-id-3\" type=\"checkbox\" checked><label for=\"sk-estimator-id-3\" class=\"sk-toggleable__label sk-toggleable__label-arrow\">LinearRegression</label><div class=\"sk-toggleable__content\"><pre>LinearRegression()</pre></div></div></div></div></div>"
      ],
      "text/plain": [
       "LinearRegression()"
      ]
     },
     "execution_count": 38,
     "metadata": {},
     "output_type": "execute_result"
    }
   ],
   "source": [
    "model=LinearRegression()\n",
    "model.fit(X_train,Y_train)"
   ]
  },
  {
   "cell_type": "code",
   "execution_count": 39,
   "id": "9d4dc489-ce96-41da-97fd-403d0abe9a06",
   "metadata": {},
   "outputs": [],
   "source": [
    "# prediction for all test data\n",
    "y_pred=model.predict(X_test)"
   ]
  },
  {
   "cell_type": "code",
   "execution_count": 40,
   "id": "e689d784-c1b9-4be1-b276-9edc62cc049d",
   "metadata": {},
   "outputs": [
    {
     "data": {
      "text/plain": [
       "array([83.53539516, 71.33678303, 73.06921319, 85.25094664, 73.57089203,\n",
       "       84.42137591, 80.15074461, 81.7139447 , 81.04668297, 82.05331455,\n",
       "       78.98963482, 84.67567586, 77.9244664 , 77.66020883, 83.03371632,\n",
       "       85.69408863, 84.8455124 , 72.97691899, 78.90669175, 79.33082825,\n",
       "       84.02346922, 85.54325759, 74.86048343, 81.37639844, 72.34371785,\n",
       "       80.47141219, 79.05721955, 82.03613263, 77.94548913, 82.27203356,\n",
       "       75.69187774, 84.38184456, 72.1476515 , 75.57693088, 70.57114987,\n",
       "       78.93292156, 75.42609984, 84.22135915, 74.16273824, 71.66467492,\n",
       "       76.13319616, 81.28045708, 76.31420741, 81.47804377, 81.61982692,\n",
       "       80.66747854, 77.94548913, 74.33257478, 73.16545779, 76.22913752,\n",
       "       70.7690398 ])"
      ]
     },
     "execution_count": 40,
     "metadata": {},
     "output_type": "execute_result"
    }
   ],
   "source": [
    "y_pred"
   ]
  },
  {
   "cell_type": "code",
   "execution_count": 42,
   "id": "20f0dc2f-b8f5-4f37-b5ec-3947b29076e4",
   "metadata": {},
   "outputs": [
    {
     "data": {
      "text/plain": [
       "2.162638390335183"
      ]
     },
     "execution_count": 42,
     "metadata": {},
     "output_type": "execute_result"
    }
   ],
   "source": [
    "from sklearn.metrics import mean_squared_error\n",
    "result=mean_squared_error(Y_test, y_pred)\n",
    "result"
   ]
  },
  {
   "cell_type": "code",
   "execution_count": null,
   "id": "849ad138-3bbf-4762-b197-0d09b689d46f",
   "metadata": {},
   "outputs": [],
   "source": []
  }
 ],
 "metadata": {
  "kernelspec": {
   "display_name": "Python 3 (ipykernel)",
   "language": "python",
   "name": "python3"
  },
  "language_info": {
   "codemirror_mode": {
    "name": "ipython",
    "version": 3
   },
   "file_extension": ".py",
   "mimetype": "text/x-python",
   "name": "python",
   "nbconvert_exporter": "python",
   "pygments_lexer": "ipython3",
   "version": "3.11.7"
  }
 },
 "nbformat": 4,
 "nbformat_minor": 5
}
